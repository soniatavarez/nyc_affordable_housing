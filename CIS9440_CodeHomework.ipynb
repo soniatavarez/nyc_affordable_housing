{
  "nbformat": 4,
  "nbformat_minor": 0,
  "metadata": {
    "colab": {
      "provenance": [],
      "authorship_tag": "ABX9TyOTYyUqpKobyrSas43GZRCk"
    },
    "kernelspec": {
      "name": "python3",
      "display_name": "Python 3"
    },
    "language_info": {
      "name": "python"
    }
  },
  "cells": [
    {
      "cell_type": "code",
      "execution_count": null,
      "metadata": {
        "id": "TQK7pZhcDpGv"
      },
      "outputs": [],
      "source": [
        "import pandas as pd\n",
        "from io import StringIO"
      ]
    },
    {
      "cell_type": "code",
      "source": [
        "#import data from nyc data website\n",
        "df_raw=pd.read_csv('https://data.cityofnewyork.us/resource/hg8x-zxpr.csv?$limit=7253')"
      ],
      "metadata": {
        "id": "QvLvOMkaFUJA"
      },
      "execution_count": null,
      "outputs": []
    },
    {
      "cell_type": "code",
      "source": [
        "#exploring data\n",
        "print(df_raw.shape)\n",
        "print(df_raw.columns)\n",
        "df_raw.head()\n",
        "df_raw.info()"
      ],
      "metadata": {
        "colab": {
          "base_uri": "https://localhost:8080/"
        },
        "id": "Q2CVJ1XmGWtx",
        "outputId": "e1c3f6fc-9ee9-4f6b-8802-034fca2fdb05"
      },
      "execution_count": null,
      "outputs": [
        {
          "output_type": "stream",
          "name": "stdout",
          "text": [
            "(7253, 41)\n",
            "Index(['project_id', 'project_name', 'project_start_date',\n",
            "       'project_completion_date', 'building_id', 'house_number', 'street_name',\n",
            "       'borough', 'postcode', 'bbl', 'bin', 'community_board',\n",
            "       'council_district', 'census_tract', 'neighborhood_tabulation_area',\n",
            "       'latitude', 'longitude', 'latitude_internal', 'longitude_internal',\n",
            "       'building_completion_date', 'reporting_construction_type',\n",
            "       'extended_affordability_status', 'prevailing_wage_status',\n",
            "       'extremely_low_income_units', 'very_low_income_units',\n",
            "       'low_income_units', 'moderate_income_units', 'middle_income_units',\n",
            "       'other_income_units', 'studio_units', '_1_br_units', '_2_br_units',\n",
            "       '_3_br_units', '_4_br_units', '_5_br_units', '_6_br_units',\n",
            "       'unknown_br_units', 'counted_rental_units',\n",
            "       'counted_homeownership_units', 'all_counted_units', 'total_units'],\n",
            "      dtype='object')\n",
            "<class 'pandas.core.frame.DataFrame'>\n",
            "RangeIndex: 7253 entries, 0 to 7252\n",
            "Data columns (total 41 columns):\n",
            " #   Column                         Non-Null Count  Dtype  \n",
            "---  ------                         --------------  -----  \n",
            " 0   project_id                     7253 non-null   int64  \n",
            " 1   project_name                   7253 non-null   object \n",
            " 2   project_start_date             7253 non-null   object \n",
            " 3   project_completion_date        5486 non-null   object \n",
            " 4   building_id                    5796 non-null   float64\n",
            " 5   house_number                   7253 non-null   object \n",
            " 6   street_name                    7253 non-null   object \n",
            " 7   borough                        7253 non-null   object \n",
            " 8   postcode                       5745 non-null   float64\n",
            " 9   bbl                            5677 non-null   float64\n",
            " 10  bin                            5677 non-null   float64\n",
            " 11  community_board                7253 non-null   object \n",
            " 12  council_district               7253 non-null   int64  \n",
            " 13  census_tract                   0 non-null      float64\n",
            " 14  neighborhood_tabulation_area   5752 non-null   object \n",
            " 15  latitude                       5745 non-null   float64\n",
            " 16  longitude                      5745 non-null   float64\n",
            " 17  latitude_internal              5671 non-null   float64\n",
            " 18  longitude_internal             5671 non-null   float64\n",
            " 19  building_completion_date       5711 non-null   object \n",
            " 20  reporting_construction_type    7253 non-null   object \n",
            " 21  extended_affordability_status  7253 non-null   object \n",
            " 22  prevailing_wage_status         7253 non-null   object \n",
            " 23  extremely_low_income_units     7253 non-null   int64  \n",
            " 24  very_low_income_units          7253 non-null   int64  \n",
            " 25  low_income_units               7253 non-null   int64  \n",
            " 26  moderate_income_units          7253 non-null   int64  \n",
            " 27  middle_income_units            7253 non-null   int64  \n",
            " 28  other_income_units             7253 non-null   int64  \n",
            " 29  studio_units                   7253 non-null   int64  \n",
            " 30  _1_br_units                    7253 non-null   int64  \n",
            " 31  _2_br_units                    7253 non-null   int64  \n",
            " 32  _3_br_units                    7253 non-null   int64  \n",
            " 33  _4_br_units                    7253 non-null   int64  \n",
            " 34  _5_br_units                    7253 non-null   int64  \n",
            " 35  _6_br_units                    7253 non-null   int64  \n",
            " 36  unknown_br_units               7253 non-null   int64  \n",
            " 37  counted_rental_units           7253 non-null   int64  \n",
            " 38  counted_homeownership_units    7253 non-null   int64  \n",
            " 39  all_counted_units              7253 non-null   int64  \n",
            " 40  total_units                    7253 non-null   int64  \n",
            "dtypes: float64(9), int64(20), object(12)\n",
            "memory usage: 2.3+ MB\n"
          ]
        }
      ]
    },
    {
      "cell_type": "code",
      "source": [
        "#installing azure library\n",
        "!pip install azure-storage-blob\n",
        "from azure.storage.blob import BlobServiceClient, BlobClient, ContainerClient"
      ],
      "metadata": {
        "colab": {
          "base_uri": "https://localhost:8080/"
        },
        "id": "g9igDKjO_sGX",
        "outputId": "061bc7f0-cae5-4e37-f846-ba217590b3b3"
      },
      "execution_count": null,
      "outputs": [
        {
          "output_type": "stream",
          "name": "stdout",
          "text": [
            "Collecting azure-storage-blob\n",
            "  Downloading azure_storage_blob-12.19.1-py3-none-any.whl (394 kB)\n",
            "\u001b[2K     \u001b[90m━━━━━━━━━━━━━━━━━━━━━━━━━━━━━━━━━━━━━━━━\u001b[0m \u001b[32m394.5/394.5 kB\u001b[0m \u001b[31m2.7 MB/s\u001b[0m eta \u001b[36m0:00:00\u001b[0m\n",
            "\u001b[?25hCollecting azure-core<2.0.0,>=1.28.0 (from azure-storage-blob)\n",
            "  Downloading azure_core-1.30.1-py3-none-any.whl (193 kB)\n",
            "\u001b[2K     \u001b[90m━━━━━━━━━━━━━━━━━━━━━━━━━━━━━━━━━━━━━━━━\u001b[0m \u001b[32m193.4/193.4 kB\u001b[0m \u001b[31m4.6 MB/s\u001b[0m eta \u001b[36m0:00:00\u001b[0m\n",
            "\u001b[?25hRequirement already satisfied: cryptography>=2.1.4 in /usr/local/lib/python3.10/dist-packages (from azure-storage-blob) (42.0.5)\n",
            "Requirement already satisfied: typing-extensions>=4.3.0 in /usr/local/lib/python3.10/dist-packages (from azure-storage-blob) (4.10.0)\n",
            "Collecting isodate>=0.6.1 (from azure-storage-blob)\n",
            "  Downloading isodate-0.6.1-py2.py3-none-any.whl (41 kB)\n",
            "\u001b[2K     \u001b[90m━━━━━━━━━━━━━━━━━━━━━━━━━━━━━━━━━━━━━━━━\u001b[0m \u001b[32m41.7/41.7 kB\u001b[0m \u001b[31m2.6 MB/s\u001b[0m eta \u001b[36m0:00:00\u001b[0m\n",
            "\u001b[?25hRequirement already satisfied: requests>=2.21.0 in /usr/local/lib/python3.10/dist-packages (from azure-core<2.0.0,>=1.28.0->azure-storage-blob) (2.31.0)\n",
            "Requirement already satisfied: six>=1.11.0 in /usr/local/lib/python3.10/dist-packages (from azure-core<2.0.0,>=1.28.0->azure-storage-blob) (1.16.0)\n",
            "Requirement already satisfied: cffi>=1.12 in /usr/local/lib/python3.10/dist-packages (from cryptography>=2.1.4->azure-storage-blob) (1.16.0)\n",
            "Requirement already satisfied: pycparser in /usr/local/lib/python3.10/dist-packages (from cffi>=1.12->cryptography>=2.1.4->azure-storage-blob) (2.22)\n",
            "Requirement already satisfied: charset-normalizer<4,>=2 in /usr/local/lib/python3.10/dist-packages (from requests>=2.21.0->azure-core<2.0.0,>=1.28.0->azure-storage-blob) (3.3.2)\n",
            "Requirement already satisfied: idna<4,>=2.5 in /usr/local/lib/python3.10/dist-packages (from requests>=2.21.0->azure-core<2.0.0,>=1.28.0->azure-storage-blob) (3.6)\n",
            "Requirement already satisfied: urllib3<3,>=1.21.1 in /usr/local/lib/python3.10/dist-packages (from requests>=2.21.0->azure-core<2.0.0,>=1.28.0->azure-storage-blob) (2.0.7)\n",
            "Requirement already satisfied: certifi>=2017.4.17 in /usr/local/lib/python3.10/dist-packages (from requests>=2.21.0->azure-core<2.0.0,>=1.28.0->azure-storage-blob) (2024.2.2)\n",
            "Installing collected packages: isodate, azure-core, azure-storage-blob\n",
            "Successfully installed azure-core-1.30.1 azure-storage-blob-12.19.1 isodate-0.6.1\n"
          ]
        }
      ]
    },
    {
      "cell_type": "code",
      "source": [
        "#defining azure connection string & container name\n",
        "CONNECTION_STRING_AZURE_STORAGE='DefaultEndpointsProtocol=https;AccountName=affordablehousing;AccountKey=J+3/tpTlA4eRSpu7TOQ+zSx7jErO15HRSGZa/e2iLxVDiFzjMP9njTT71S5W284vk4EjNA4i36+y+AStS5uxew==;EndpointSuffix=core.windows.net'\n",
        "CONTAINER_AZURE='affordablehousing'\n",
        "\n",
        "# convert dataframe to csv\n",
        "output = StringIO()\n",
        "df_raw.to_csv(output, index=False)\n",
        "data = output.getvalue()\n",
        "output.close()\n",
        "blob_name = \"raw_affordablehousingdata.csv\"\n",
        "\n",
        "#blob client creation\n",
        "blob_service_client = BlobServiceClient.from_connection_string(CONNECTION_STRING_AZURE_STORAGE)\n",
        "blob_client = blob_service_client.get_blob_client(container=CONTAINER_AZURE, blob=blob_name)\n",
        "\n",
        "#uploading csv data\n",
        "blob_client.upload_blob(data, overwrite=True)\n",
        "print(f\"Uploaded {blob_name} to Azure Blob Storage in container {CONTAINER_AZURE}.\")"
      ],
      "metadata": {
        "id": "YShxH9otG1Ag",
        "colab": {
          "base_uri": "https://localhost:8080/"
        },
        "outputId": "99821d52-3d83-419c-d8e6-6087973a4d17"
      },
      "execution_count": null,
      "outputs": [
        {
          "output_type": "stream",
          "name": "stdout",
          "text": [
            "Uploaded raw_affordablehousingdata.csv to Azure Blob Storage in container affordablehousing.\n"
          ]
        }
      ]
    },
    {
      "cell_type": "code",
      "source": [
        "#cleaning data/dropping column that has null value\n",
        "df_cleaned=df_raw.copy()\n",
        "df_cleaned = df_raw.drop(columns=['census_tract'])\n",
        "df_cleaned.info()"
      ],
      "metadata": {
        "colab": {
          "base_uri": "https://localhost:8080/"
        },
        "id": "l7voF-SQQom1",
        "outputId": "30bdb0e8-3c3f-48e9-bf3d-deab54f13dcd"
      },
      "execution_count": null,
      "outputs": [
        {
          "output_type": "stream",
          "name": "stdout",
          "text": [
            "<class 'pandas.core.frame.DataFrame'>\n",
            "RangeIndex: 7253 entries, 0 to 7252\n",
            "Data columns (total 40 columns):\n",
            " #   Column                         Non-Null Count  Dtype  \n",
            "---  ------                         --------------  -----  \n",
            " 0   project_id                     7253 non-null   int64  \n",
            " 1   project_name                   7253 non-null   object \n",
            " 2   project_start_date             7253 non-null   object \n",
            " 3   project_completion_date        5486 non-null   object \n",
            " 4   building_id                    5796 non-null   float64\n",
            " 5   house_number                   7253 non-null   object \n",
            " 6   street_name                    7253 non-null   object \n",
            " 7   borough                        7253 non-null   object \n",
            " 8   postcode                       5745 non-null   float64\n",
            " 9   bbl                            5677 non-null   float64\n",
            " 10  bin                            5677 non-null   float64\n",
            " 11  community_board                7253 non-null   object \n",
            " 12  council_district               7253 non-null   int64  \n",
            " 13  neighborhood_tabulation_area   5752 non-null   object \n",
            " 14  latitude                       5745 non-null   float64\n",
            " 15  longitude                      5745 non-null   float64\n",
            " 16  latitude_internal              5671 non-null   float64\n",
            " 17  longitude_internal             5671 non-null   float64\n",
            " 18  building_completion_date       5711 non-null   object \n",
            " 19  reporting_construction_type    7253 non-null   object \n",
            " 20  extended_affordability_status  7253 non-null   object \n",
            " 21  prevailing_wage_status         7253 non-null   object \n",
            " 22  extremely_low_income_units     7253 non-null   int64  \n",
            " 23  very_low_income_units          7253 non-null   int64  \n",
            " 24  low_income_units               7253 non-null   int64  \n",
            " 25  moderate_income_units          7253 non-null   int64  \n",
            " 26  middle_income_units            7253 non-null   int64  \n",
            " 27  other_income_units             7253 non-null   int64  \n",
            " 28  studio_units                   7253 non-null   int64  \n",
            " 29  _1_br_units                    7253 non-null   int64  \n",
            " 30  _2_br_units                    7253 non-null   int64  \n",
            " 31  _3_br_units                    7253 non-null   int64  \n",
            " 32  _4_br_units                    7253 non-null   int64  \n",
            " 33  _5_br_units                    7253 non-null   int64  \n",
            " 34  _6_br_units                    7253 non-null   int64  \n",
            " 35  unknown_br_units               7253 non-null   int64  \n",
            " 36  counted_rental_units           7253 non-null   int64  \n",
            " 37  counted_homeownership_units    7253 non-null   int64  \n",
            " 38  all_counted_units              7253 non-null   int64  \n",
            " 39  total_units                    7253 non-null   int64  \n",
            "dtypes: float64(8), int64(20), object(12)\n",
            "memory usage: 2.2+ MB\n"
          ]
        }
      ]
    },
    {
      "cell_type": "code",
      "source": [
        "#converting cleaned dataframe to csv\n",
        "\n",
        "output = StringIO()\n",
        "df_cleaned.to_csv(output, index=False)\n",
        "data = output.getvalue()\n",
        "output.close()\n",
        "blob_name = \"cleaned_affordablehousingdata.csv\"\n",
        "\n",
        "#blob client creation\n",
        "blob_service_client = BlobServiceClient.from_connection_string(CONNECTION_STRING_AZURE_STORAGE)\n",
        "blob_client = blob_service_client.get_blob_client(container=CONTAINER_AZURE, blob=blob_name)\n",
        "\n",
        "#uploading csv data\n",
        "blob_client.upload_blob(data, overwrite=True)\n",
        "print(f\"Uploaded {blob_name} to Azure Blob Storage in container {CONTAINER_AZURE}.\")"
      ],
      "metadata": {
        "colab": {
          "base_uri": "https://localhost:8080/"
        },
        "id": "w7HwWYqrR2uf",
        "outputId": "5c012aaa-ed0e-49ea-9109-eedd83b186f1"
      },
      "execution_count": null,
      "outputs": [
        {
          "output_type": "stream",
          "name": "stdout",
          "text": [
            "Uploaded cleaned_affordablehousingdata.csv to Azure Blob Storage in container affordablehousing.\n"
          ]
        }
      ]
    }
  ]
}