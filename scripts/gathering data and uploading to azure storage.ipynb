{
 "cells": [
  {
   "cell_type": "code",
   "execution_count": 5,
   "id": "5cb8acac",
   "metadata": {},
   "outputs": [
    {
     "name": "stdout",
     "output_type": "stream",
     "text": [
      "Requirement already satisfied: azure-storage-blob in /Users/soniatavarez/anaconda3/lib/python3.11/site-packages (12.19.1)\r\n",
      "Requirement already satisfied: azure-core<2.0.0,>=1.28.0 in /Users/soniatavarez/anaconda3/lib/python3.11/site-packages (from azure-storage-blob) (1.30.1)\r\n",
      "Requirement already satisfied: cryptography>=2.1.4 in /Users/soniatavarez/anaconda3/lib/python3.11/site-packages (from azure-storage-blob) (41.0.3)\r\n",
      "Requirement already satisfied: typing-extensions>=4.3.0 in /Users/soniatavarez/anaconda3/lib/python3.11/site-packages (from azure-storage-blob) (4.11.0)\r\n",
      "Requirement already satisfied: isodate>=0.6.1 in /Users/soniatavarez/anaconda3/lib/python3.11/site-packages (from azure-storage-blob) (0.6.1)\r\n",
      "Requirement already satisfied: requests>=2.21.0 in /Users/soniatavarez/anaconda3/lib/python3.11/site-packages (from azure-core<2.0.0,>=1.28.0->azure-storage-blob) (2.31.0)\r\n",
      "Requirement already satisfied: six>=1.11.0 in /Users/soniatavarez/anaconda3/lib/python3.11/site-packages (from azure-core<2.0.0,>=1.28.0->azure-storage-blob) (1.16.0)\r\n",
      "Requirement already satisfied: cffi>=1.12 in /Users/soniatavarez/anaconda3/lib/python3.11/site-packages (from cryptography>=2.1.4->azure-storage-blob) (1.15.1)\r\n",
      "Requirement already satisfied: pycparser in /Users/soniatavarez/anaconda3/lib/python3.11/site-packages (from cffi>=1.12->cryptography>=2.1.4->azure-storage-blob) (2.21)\r\n",
      "Requirement already satisfied: charset-normalizer<4,>=2 in /Users/soniatavarez/anaconda3/lib/python3.11/site-packages (from requests>=2.21.0->azure-core<2.0.0,>=1.28.0->azure-storage-blob) (2.0.4)\r\n",
      "Requirement already satisfied: idna<4,>=2.5 in /Users/soniatavarez/anaconda3/lib/python3.11/site-packages (from requests>=2.21.0->azure-core<2.0.0,>=1.28.0->azure-storage-blob) (3.4)\r\n",
      "Requirement already satisfied: urllib3<3,>=1.21.1 in /Users/soniatavarez/anaconda3/lib/python3.11/site-packages (from requests>=2.21.0->azure-core<2.0.0,>=1.28.0->azure-storage-blob) (1.26.16)\r\n",
      "Requirement already satisfied: certifi>=2017.4.17 in /Users/soniatavarez/anaconda3/lib/python3.11/site-packages (from requests>=2.21.0->azure-core<2.0.0,>=1.28.0->azure-storage-blob) (2024.2.2)\r\n"
     ]
    }
   ],
   "source": [
    "import pandas as pd\n",
    "from io import StringIO\n",
    "\n",
    "#installing azure library\n",
    "!pip install azure-storage-blob\n",
    "from azure.storage.blob import BlobServiceClient, BlobClient, ContainerClient"
   ]
  },
  {
   "cell_type": "code",
   "execution_count": 2,
   "id": "72ca0476",
   "metadata": {},
   "outputs": [],
   "source": [
    "#import data from nyc data website\n",
    "df_raw=pd.read_csv('https://data.cityofnewyork.us/resource/hg8x-zxpr.csv?$limit=7253')"
   ]
  },
  {
   "cell_type": "code",
   "execution_count": 3,
   "id": "ebf151a9",
   "metadata": {},
   "outputs": [
    {
     "name": "stdout",
     "output_type": "stream",
     "text": [
      "(7253, 41)\n",
      "Index(['project_id', 'project_name', 'project_start_date',\n",
      "       'project_completion_date', 'building_id', 'house_number', 'street_name',\n",
      "       'borough', 'postcode', 'bbl', 'bin', 'community_board',\n",
      "       'council_district', 'census_tract', 'neighborhood_tabulation_area',\n",
      "       'latitude', 'longitude', 'latitude_internal', 'longitude_internal',\n",
      "       'building_completion_date', 'reporting_construction_type',\n",
      "       'extended_affordability_status', 'prevailing_wage_status',\n",
      "       'extremely_low_income_units', 'very_low_income_units',\n",
      "       'low_income_units', 'moderate_income_units', 'middle_income_units',\n",
      "       'other_income_units', 'studio_units', '_1_br_units', '_2_br_units',\n",
      "       '_3_br_units', '_4_br_units', '_5_br_units', '_6_br_units',\n",
      "       'unknown_br_units', 'counted_rental_units',\n",
      "       'counted_homeownership_units', 'all_counted_units', 'total_units'],\n",
      "      dtype='object')\n",
      "<class 'pandas.core.frame.DataFrame'>\n",
      "RangeIndex: 7253 entries, 0 to 7252\n",
      "Data columns (total 41 columns):\n",
      " #   Column                         Non-Null Count  Dtype  \n",
      "---  ------                         --------------  -----  \n",
      " 0   project_id                     7253 non-null   int64  \n",
      " 1   project_name                   7253 non-null   object \n",
      " 2   project_start_date             7253 non-null   object \n",
      " 3   project_completion_date        5486 non-null   object \n",
      " 4   building_id                    5796 non-null   float64\n",
      " 5   house_number                   7253 non-null   object \n",
      " 6   street_name                    7253 non-null   object \n",
      " 7   borough                        7253 non-null   object \n",
      " 8   postcode                       5745 non-null   float64\n",
      " 9   bbl                            5677 non-null   float64\n",
      " 10  bin                            5677 non-null   float64\n",
      " 11  community_board                7253 non-null   object \n",
      " 12  council_district               7253 non-null   int64  \n",
      " 13  census_tract                   0 non-null      float64\n",
      " 14  neighborhood_tabulation_area   5752 non-null   object \n",
      " 15  latitude                       5745 non-null   float64\n",
      " 16  longitude                      5745 non-null   float64\n",
      " 17  latitude_internal              5671 non-null   float64\n",
      " 18  longitude_internal             5671 non-null   float64\n",
      " 19  building_completion_date       5711 non-null   object \n",
      " 20  reporting_construction_type    7253 non-null   object \n",
      " 21  extended_affordability_status  7253 non-null   object \n",
      " 22  prevailing_wage_status         7253 non-null   object \n",
      " 23  extremely_low_income_units     7253 non-null   int64  \n",
      " 24  very_low_income_units          7253 non-null   int64  \n",
      " 25  low_income_units               7253 non-null   int64  \n",
      " 26  moderate_income_units          7253 non-null   int64  \n",
      " 27  middle_income_units            7253 non-null   int64  \n",
      " 28  other_income_units             7253 non-null   int64  \n",
      " 29  studio_units                   7253 non-null   int64  \n",
      " 30  _1_br_units                    7253 non-null   int64  \n",
      " 31  _2_br_units                    7253 non-null   int64  \n",
      " 32  _3_br_units                    7253 non-null   int64  \n",
      " 33  _4_br_units                    7253 non-null   int64  \n",
      " 34  _5_br_units                    7253 non-null   int64  \n",
      " 35  _6_br_units                    7253 non-null   int64  \n",
      " 36  unknown_br_units               7253 non-null   int64  \n",
      " 37  counted_rental_units           7253 non-null   int64  \n",
      " 38  counted_homeownership_units    7253 non-null   int64  \n",
      " 39  all_counted_units              7253 non-null   int64  \n",
      " 40  total_units                    7253 non-null   int64  \n",
      "dtypes: float64(9), int64(20), object(12)\n",
      "memory usage: 2.3+ MB\n"
     ]
    }
   ],
   "source": [
    "#exploring data\n",
    "print(df_raw.shape)\n",
    "print(df_raw.columns)\n",
    "df_raw.head()\n",
    "df_raw.info()"
   ]
  },
  {
   "cell_type": "code",
   "execution_count": 6,
   "id": "1b0c6272",
   "metadata": {},
   "outputs": [
    {
     "name": "stdout",
     "output_type": "stream",
     "text": [
      "Uploaded raw_affordablehousingdata.csv to Azure Blob Storage in container affordablehousing.\n"
     ]
    }
   ],
   "source": [
    "#defining azure connection string & container name\n",
    "CONNECTION_STRING_AZURE_STORAGE='DefaultEndpointsProtocol=https;AccountName=affordablehousing;AccountKey=J+3/tpTlA4eRSpu7TOQ+zSx7jErO15HRSGZa/e2iLxVDiFzjMP9njTT71S5W284vk4EjNA4i36+y+AStS5uxew==;EndpointSuffix=core.windows.net'\n",
    "CONTAINER_AZURE='affordablehousing'\n",
    "\n",
    "# convert dataframe to csv\n",
    "output = StringIO()\n",
    "df_raw.to_csv(output, index=False)\n",
    "data = output.getvalue()\n",
    "output.close()\n",
    "blob_name = \"raw_affordablehousingdata.csv\"\n",
    "\n",
    "#blob client creation\n",
    "blob_service_client = BlobServiceClient.from_connection_string(CONNECTION_STRING_AZURE_STORAGE)\n",
    "blob_client = blob_service_client.get_blob_client(container=CONTAINER_AZURE, blob=blob_name)\n",
    "\n",
    "#uploading csv data\n",
    "blob_client.upload_blob(data, overwrite=True)\n",
    "print(f\"Uploaded {blob_name} to Azure Blob Storage in container {CONTAINER_AZURE}.\")"
   ]
  },
  {
   "cell_type": "code",
   "execution_count": null,
   "id": "986c7fd5",
   "metadata": {},
   "outputs": [],
   "source": []
  }
 ],
 "metadata": {
  "kernelspec": {
   "display_name": "Python 3 (ipykernel)",
   "language": "python",
   "name": "python3"
  },
  "language_info": {
   "codemirror_mode": {
    "name": "ipython",
    "version": 3
   },
   "file_extension": ".py",
   "mimetype": "text/x-python",
   "name": "python",
   "nbconvert_exporter": "python",
   "pygments_lexer": "ipython3",
   "version": "3.11.5"
  }
 },
 "nbformat": 4,
 "nbformat_minor": 5
}
