{
 "cells": [
  {
   "cell_type": "code",
   "execution_count": null,
   "id": "016e5abf",
   "metadata": {},
   "outputs": [],
   "source": [
    "import pandas as pd\n",
    "import numpy as np\n",
    "from io import StringIO\n",
    "from io import BytesIO\n",
    "\n",
    "!pip install azure-storage-blob\n",
    "from azure.storage.blob import BlobServiceClient, BlobClient, ContainerClient"
   ]
  },
  {
   "cell_type": "code",
   "execution_count": null,
   "id": "c4aee46b",
   "metadata": {},
   "outputs": [],
   "source": [
    "#defining azure connection string, container name & blob name\n",
    "CONNECTION_STRING_AZURE_STORAGE='DefaultEndpointsProtocol=https;AccountName=affordablehousing;AccountKey=J+3/tpTlA4eRSpu7TOQ+zSx7jErO15HRSGZa/e2iLxVDiFzjMP9njTT71S5W284vk4EjNA4i36+y+AStS5uxew==;EndpointSuffix=core.windows.net'\n",
    "CONTAINER_AZURE='affordablehousing'\n",
    "\n",
    "#creating azure functions to upload to the blob\n",
    "def azure_upload_blob(connect_str, container_name, blob_name, data):\n",
    "    blob_service_client = BlobServiceClient.from_connection_string(connect_str)\n",
    "    blob_client = blob_service_client.get_blob_client(container=CONTAINER_AZURE, blob=blob_name)\n",
    "    blob_client.upload_blob(data, overwrite=True)\n",
    "    print(f\"Uploaded to Azure Blob: {blob_name}\")\n",
    "    \n",
    "#creating azure functions \n",
    "def azure_download_blob(connect_str, container_name, blob_name):\n",
    "    blob_service_client = BlobServiceClient.from_connection_string(connect_str)\n",
    "    blob_client = blob_service_client.get_blob_client(container=CONTAINER_AZURE, blob=blob_name)\n",
    "    download_stream = blob_client.download_blob()\n",
    "    return download_stream.readall()"
   ]
  },
  {
   "cell_type": "code",
   "execution_count": null,
   "id": "4d82737b",
   "metadata": {},
   "outputs": [],
   "source": [
    "#downloading csv from azure storage\n",
    "download_data=azure_download_blob(CONNECTION_STRING_AZURE_STORAGE, CONTAINER_AZURE, 'raw_affordablehousingdata.csv')"
   ]
  },
  {
   "cell_type": "code",
   "execution_count": null,
   "id": "e8959915",
   "metadata": {},
   "outputs": [],
   "source": [
    "#converting csv download into df\n",
    "download_data=pd.read_csv(BytesIO(download_data))\n",
    "download_data"
   ]
  },
  {
   "cell_type": "code",
   "execution_count": null,
   "id": "e46072ba",
   "metadata": {
    "scrolled": false
   },
   "outputs": [],
   "source": [
    "download_data.info()"
   ]
  },
  {
   "cell_type": "code",
   "execution_count": null,
   "id": "7a8cc6d1",
   "metadata": {},
   "outputs": [],
   "source": [
    "#dropping census_tract since all null values\n",
    "download_data=download_data.drop(columns=['census_tract'])\n",
    "print(download_data.columns)"
   ]
  },
  {
   "cell_type": "code",
   "execution_count": null,
   "id": "beeb4584",
   "metadata": {
    "scrolled": true
   },
   "outputs": [],
   "source": [
    "#removing any duplicate building_id values\n",
    "download_data=download_data.drop_duplicates(subset=['building_id'])\n",
    "download_data.info()"
   ]
  },
  {
   "cell_type": "code",
   "execution_count": null,
   "id": "40caaecc",
   "metadata": {},
   "outputs": [],
   "source": [
    "#dropping null values in building_id \n",
    "download_data=download_data.dropna(subset=['building_id'])\n",
    "download_data.info()"
   ]
  },
  {
   "cell_type": "code",
   "execution_count": null,
   "id": "37ff80f1",
   "metadata": {},
   "outputs": [],
   "source": [
    "#allows to write over copied dataframe\n",
    "pd.options.mode.copy_on_write = True"
   ]
  },
  {
   "cell_type": "code",
   "execution_count": null,
   "id": "963c7c0a",
   "metadata": {
    "scrolled": false
   },
   "outputs": [],
   "source": [
    "#converting building_id from float to int \n",
    "download_data['building_id']=download_data['building_id'].astype(int)\n",
    "download_data"
   ]
  },
  {
   "cell_type": "code",
   "execution_count": null,
   "id": "ebb9a3f8",
   "metadata": {
    "scrolled": false
   },
   "outputs": [],
   "source": [
    "#dropping rows with null values in building_completion_date since we are only interested in completed buildings for analysis\n",
    "download_data=download_data.dropna(subset=['building_completion_date'])\n",
    "download_data.info()"
   ]
  },
  {
   "cell_type": "code",
   "execution_count": null,
   "id": "907cdb8d",
   "metadata": {
    "scrolled": true
   },
   "outputs": [],
   "source": [
    "#dropping rows with null values in project_completion_date and project_start_date since we are only interested in completed projects for analysis\n",
    "download_data=download_data.dropna(subset=['project_completion_date','project_start_date'])\n",
    "download_data.info()"
   ]
  },
  {
   "cell_type": "code",
   "execution_count": null,
   "id": "e0fc1fba",
   "metadata": {},
   "outputs": [],
   "source": [
    "#dropping null values for postcode\n",
    "download_data=download_data.dropna(subset=['postcode'])\n",
    "download_data.info()"
   ]
  },
  {
   "cell_type": "code",
   "execution_count": null,
   "id": "350268ec",
   "metadata": {
    "scrolled": true
   },
   "outputs": [],
   "source": [
    "#creating new column for total_low_income_units\n",
    "download_data['total_low_income_units']=download_data['extremely_low_income_units']+download_data['very_low_income_units']+download_data['low_income_units']\n",
    "download_data.info()"
   ]
  },
  {
   "cell_type": "code",
   "execution_count": null,
   "id": "03ee8f6e",
   "metadata": {
    "scrolled": false
   },
   "outputs": [],
   "source": [
    "#creating new column for total_non-low_income_units\n",
    "download_data['total_non_low_income_units']=download_data['moderate_income_units']+download_data['middle_income_units']\n",
    "download_data.info()"
   ]
  },
  {
   "cell_type": "code",
   "execution_count": null,
   "id": "4f8af6e8",
   "metadata": {},
   "outputs": [],
   "source": [
    "#dropping columns not needed for analysis, these columns are dropped because I will only focus on low income vs non-low income per location \n",
    "download_data=download_data.drop(columns=['project_start_date','project_completion_date','bbl','bin','community_board','council_district','neighborhood_tabulation_area',\n",
    "                                          'latitude_internal','longitude_internal','building_completion_date','extended_affordability_status','prevailing_wage_status',\n",
    "                                            'other_income_units','unknown_br_units'])\n",
    "download_data.info()"
   ]
  },
  {
   "cell_type": "code",
   "execution_count": null,
   "id": "9f0f9789",
   "metadata": {},
   "outputs": [],
   "source": [
    "# convert dataframe to csv\n",
    "output = StringIO()\n",
    "download_data.to_csv(output, index=False)\n",
    "data = output.getvalue()\n",
    "output.close()\n",
    "blob_name = \"cleaned_affordablehousingdata.csv\""
   ]
  },
  {
   "cell_type": "code",
   "execution_count": null,
   "id": "a553651e",
   "metadata": {},
   "outputs": [],
   "source": [
    "#blob client creation\n",
    "blob_service_client = BlobServiceClient.from_connection_string(CONNECTION_STRING_AZURE_STORAGE)\n",
    "blob_client = blob_service_client.get_blob_client(container=CONTAINER_AZURE, blob=blob_name)\n",
    "\n",
    "#uploading csv data\n",
    "blob_client.upload_blob(data, overwrite=True)"
   ]
  },
  {
   "cell_type": "code",
   "execution_count": null,
   "id": "3e53cdae",
   "metadata": {},
   "outputs": [],
   "source": []
  }
 ],
 "metadata": {
  "kernelspec": {
   "display_name": "Python 3 (ipykernel)",
   "language": "python",
   "name": "python3"
  },
  "language_info": {
   "codemirror_mode": {
    "name": "ipython",
    "version": 3
   },
   "file_extension": ".py",
   "mimetype": "text/x-python",
   "name": "python",
   "nbconvert_exporter": "python",
   "pygments_lexer": "ipython3",
   "version": "3.11.5"
  }
 },
 "nbformat": 4,
 "nbformat_minor": 5
}
